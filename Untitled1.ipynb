{
 "cells": [
  {
   "cell_type": "code",
   "execution_count": 50,
   "id": "e18fc81b-f489-430c-9217-469c365386d5",
   "metadata": {},
   "outputs": [],
   "source": [
    "import pandas as pd\n",
    "import numpy as np"
   ]
  },
  {
   "cell_type": "code",
   "execution_count": 51,
   "id": "ece39cc6-eb29-4630-94c6-1e269e6f3a19",
   "metadata": {},
   "outputs": [],
   "source": [
    "df=pd.read_csv('placement_online.csv')"
   ]
  },
  {
   "cell_type": "code",
   "execution_count": 52,
   "id": "a5d5f153-c9da-4bf6-baed-fd3dd99fe891",
   "metadata": {},
   "outputs": [],
   "source": [
    "class MeraLR:\n",
    "    def __init__(self):\n",
    "        self.m=None\n",
    "        self.b=None\n",
    "\n",
    "    def fit(self,X_train,Y_train):\n",
    "        num=0\n",
    "        den=0\n",
    "        for i in range(X_train.shape[0]):\n",
    "            num=num+((X_train[i]-X_train.mean())*(Y_train[i]-Y_train.mean()))\n",
    "            den=den+((X_train[i]-X_train.mean())*(X_train[i]-X_train.mean()))\n",
    "\n",
    "        self.m=num/den\n",
    "        self.b=Y_train.mean()-(self.m*X_train.mean())\n",
    "        print(self.m)\n",
    "        print(self.b)\n",
    "\n",
    "        \n",
    "    def predict(self,X_test):\n",
    "        return self.m*X_test+self.b"
   ]
  },
  {
   "cell_type": "code",
   "execution_count": 53,
   "id": "97a8f35c-c51e-4290-9575-e1de259abf1e",
   "metadata": {},
   "outputs": [],
   "source": [
    "x=df.iloc[:,0].values\n",
    "y=df.iloc[:,1].values"
   ]
  },
  {
   "cell_type": "code",
   "execution_count": 54,
   "id": "5adc8183-a899-47e9-ac09-e259de3601e1",
   "metadata": {},
   "outputs": [],
   "source": [
    "from sklearn.model_selection import train_test_split\n",
    "\n",
    "X_train,X_test,Y_train,Y_test=train_test_split(x,y,test_size=0.2,random_state=2)"
   ]
  },
  {
   "cell_type": "code",
   "execution_count": 55,
   "id": "e31875be-946a-47ba-9600-de28fb134fe0",
   "metadata": {},
   "outputs": [],
   "source": [
    "# creating the object of the class \n",
    "obj=MeraLR()"
   ]
  },
  {
   "cell_type": "code",
   "execution_count": null,
   "id": "ac855c26-23a1-41c8-a9d1-f7f0f2466b92",
   "metadata": {},
   "outputs": [],
   "source": []
  },
  {
   "cell_type": "code",
   "execution_count": 56,
   "id": "ba68e3d3-9e6a-48c8-ac64-7449e1910777",
   "metadata": {},
   "outputs": [
    {
     "name": "stdout",
     "output_type": "stream",
     "text": [
      "0.5579519734250721\n",
      "-0.8961119222429152\n"
     ]
    }
   ],
   "source": [
    "obj.fit(X_train,Y_train)"
   ]
  },
  {
   "cell_type": "code",
   "execution_count": 57,
   "id": "ad2e7c59-5d74-426d-85d4-6c2d4b5222fd",
   "metadata": {},
   "outputs": [
    {
     "data": {
      "text/plain": [
       "8.58"
      ]
     },
     "execution_count": 57,
     "metadata": {},
     "output_type": "execute_result"
    }
   ],
   "source": [
    "X_test[0]"
   ]
  },
  {
   "cell_type": "code",
   "execution_count": 58,
   "id": "ebdd4d9c-2f27-4d66-ba38-f73194b0af8b",
   "metadata": {},
   "outputs": [
    {
     "data": {
      "text/plain": [
       "3.891116009744203"
      ]
     },
     "execution_count": 58,
     "metadata": {},
     "output_type": "execute_result"
    }
   ],
   "source": [
    "obj.predict(X_test[0])"
   ]
  },
  {
   "cell_type": "code",
   "execution_count": null,
   "id": "42a9ec1f-b69e-41d6-9ee6-194b7c095a84",
   "metadata": {},
   "outputs": [],
   "source": []
  }
 ],
 "metadata": {
  "kernelspec": {
   "display_name": "Python 3 (ipykernel)",
   "language": "python",
   "name": "python3"
  },
  "language_info": {
   "codemirror_mode": {
    "name": "ipython",
    "version": 3
   },
   "file_extension": ".py",
   "mimetype": "text/x-python",
   "name": "python",
   "nbconvert_exporter": "python",
   "pygments_lexer": "ipython3",
   "version": "3.11.2"
  }
 },
 "nbformat": 4,
 "nbformat_minor": 5
}
